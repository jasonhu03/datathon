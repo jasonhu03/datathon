{
 "cells": [
  {
   "cell_type": "markdown",
   "metadata": {},
   "source": [
    "Team Jedward Datathon project!"
   ]
  },
  {
   "cell_type": "code",
   "execution_count": 2,
   "metadata": {},
   "outputs": [],
   "source": [
    "#import values\n",
    "import pandas as pd"
   ]
  },
  {
   "cell_type": "code",
   "execution_count": 3,
   "metadata": {},
   "outputs": [],
   "source": [
    "#importing csv files to dataframes\n",
    "customers_df = pd.read_csv(\"the_data\\olist_customers_dataset.csv\")\n",
    "geolocation_df = pd.read_csv(\"the_data\\olist_geolocation_dataset.csv\")\n",
    "order_items_df = pd.read_csv(\"the_data\\olist_order_items_dataset.csv\")\n",
    "order_payment_df = pd.read_csv(\"the_data\\olist_order_payments_dataset.csv\")\n",
    "order_reviews_df = pd.read_csv(\"the_data\\olist_order_reviews_dataset.csv\")\n",
    "orders_df = pd.read_csv(\"the_data\\olist_orders_dataset.csv\")\n",
    "products_df = pd.read_csv(\"the_data\\olist_products_dataset.csv\")\n",
    "sellers_df = pd.read_csv(\"the_data\\olist_sellers_dataset.csv\")"
   ]
  },
  {
   "cell_type": "code",
   "execution_count": 4,
   "metadata": {},
   "outputs": [
    {
     "name": "stdout",
     "output_type": "stream",
     "text": [
      "review_id                  0\n",
      "order_id                   0\n",
      "review_score               0\n",
      "review_comment_title       0\n",
      "review_comment_message     0\n",
      "review_creation_date       0\n",
      "review_answer_timestamp    0\n",
      "dtype: int64\n"
     ]
    }
   ],
   "source": [
    "order_reviews_df = order_reviews_df.fillna(0)\n",
    "\n",
    "print(order_reviews_df.isnull().sum())"
   ]
  },
  {
   "cell_type": "code",
   "execution_count": 17,
   "metadata": {},
   "outputs": [
    {
     "name": "stdout",
     "output_type": "stream",
     "text": [
      "0\n"
     ]
    }
   ],
   "source": [
    "print(customers_df.duplicated().sum())\n",
    "\n",
    "geolocation_df = geolocation_df.drop_duplicates(subset=['geolocation_zip_code_prefix'], keep='first')\n",
    "geolocation_csv_data = geolocation_df.to_csv('cleaned_data/geolocation_dataset_cleaned.csv', index = False)"
   ]
  }
 ],
 "metadata": {
  "kernelspec": {
   "display_name": "Python 3.10.2 64-bit (windows store)",
   "language": "python",
   "name": "python3"
  },
  "language_info": {
   "codemirror_mode": {
    "name": "ipython",
    "version": 3
   },
   "file_extension": ".py",
   "mimetype": "text/x-python",
   "name": "python",
   "nbconvert_exporter": "python",
   "pygments_lexer": "ipython3",
   "version": "3.10.8"
  },
  "orig_nbformat": 4,
  "vscode": {
   "interpreter": {
    "hash": "9d1af5a4960a96d7621722435ce13e2a5fde01041db7fd0603c44397b4f28380"
   }
  }
 },
 "nbformat": 4,
 "nbformat_minor": 2
}
