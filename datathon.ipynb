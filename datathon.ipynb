{
 "cells": [
  {
   "cell_type": "markdown",
   "metadata": {},
   "source": [
    "Team Jedward Datathon project!"
   ]
  },
  {
   "cell_type": "code",
   "execution_count": 4,
   "metadata": {},
   "outputs": [],
   "source": [
    "#import values\n",
    "import pandas as pd"
   ]
  },
  {
   "cell_type": "code",
   "execution_count": 8,
   "metadata": {},
   "outputs": [],
   "source": [
    "#importing csv files to dataframes\n",
    "customers_df = pd.read_csv(\"the_data\\olist_customers_dataset.csv\")\n",
    "geolocation_df = pd.read_csv(\"the_data\\olist_geolocation_dataset.csv\")\n",
    "order_items_df = pd.read_csv(\"the_data\\olist_order_items_dataset.csv\")\n",
    "order_payment_df = pd.read_csv(\"the_data\\olist_order_payments_dataset.csv\")\n",
    "order_reviews_df = pd.read_csv(\"the_data\\olist_order_reviews_dataset.csv\")\n",
    "orders_df = pd.read_csv(\"the_data\\olist_orders_dataset.csv\")\n",
    "products_df = pd.read_csv(\"the_data\\olist_products_dataset.csv\")\n",
    "sellers_df = pd.read_csv(\"the_data\\olist_sellers_dataset.csv\")"
   ]
  }
 ],
 "metadata": {
  "kernelspec": {
   "display_name": "Python 3.10.2 64-bit (windows store)",
   "language": "python",
   "name": "python3"
  },
  "language_info": {
   "codemirror_mode": {
    "name": "ipython",
    "version": 3
   },
   "file_extension": ".py",
   "mimetype": "text/x-python",
   "name": "python",
   "nbconvert_exporter": "python",
   "pygments_lexer": "ipython3",
   "version": "3.10.8"
  },
  "orig_nbformat": 4,
  "vscode": {
   "interpreter": {
    "hash": "9d1af5a4960a96d7621722435ce13e2a5fde01041db7fd0603c44397b4f28380"
   }
  }
 },
 "nbformat": 4,
 "nbformat_minor": 2
}
